{
  "nbformat": 4,
  "nbformat_minor": 0,
  "metadata": {
    "colab": {
      "provenance": []
    },
    "kernelspec": {
      "name": "python3",
      "display_name": "Python 3"
    },
    "language_info": {
      "name": "python"
    }
  },
  "cells": [
    {
      "cell_type": "markdown",
      "source": [
        "###1. What is the result of the code, and why?\n",
        "\n",
        ">>> def func(a, b=6, c=8):\n",
        "\n",
        "print(a, b, c)\n",
        "\n",
        ">>> func(1, 2)\n",
        "\n",
        "###Ans:\n",
        "The result of the above code is 1 2 8. its because the function uses the default value of c ie 8 which is provided at the time of declaration"
      ],
      "metadata": {
        "id": "mmTPD-rNKVdb"
      }
    },
    {
      "cell_type": "code",
      "source": [
        "def func(a,b=6,c=8):\n",
        "    print(a,b,c)\n",
        "func(1,2)"
      ],
      "metadata": {
        "colab": {
          "base_uri": "https://localhost:8080/"
        },
        "id": "4NYUP6l9Kjk7",
        "outputId": "bc924ae0-0bd2-47ed-eaa8-e865824492d8"
      },
      "execution_count": 1,
      "outputs": [
        {
          "output_type": "stream",
          "name": "stdout",
          "text": [
            "1 2 8\n"
          ]
        }
      ]
    },
    {
      "cell_type": "markdown",
      "source": [
        "###2. What is the result of this code, and why?\n",
        "\n",
        ">>> def func(a, b, c=5):\n",
        "\n",
        "print(a, b, c)\n",
        "\n",
        ">>> func(1, c=3, b=2)\n",
        "\n",
        "###Ans:\n",
        "The result of the above code is 1 2 3. it is because the function will use default values only when a value for a argument is not provided and if argument name is mentioned while doing a function call, the order of arguments is also ignored by the python interpreter"
      ],
      "metadata": {
        "id": "1_WEKqBKKmCy"
      }
    },
    {
      "cell_type": "code",
      "source": [
        "def func(a,b,c=5):\n",
        "    print(a,b,c)\n",
        "func(1,c=3,b=2)"
      ],
      "metadata": {
        "colab": {
          "base_uri": "https://localhost:8080/"
        },
        "id": "ajVmkdEfKwxn",
        "outputId": "faa991de-8fd8-4610-aa88-4f8ade1b4fb2"
      },
      "execution_count": 2,
      "outputs": [
        {
          "output_type": "stream",
          "name": "stdout",
          "text": [
            "1 2 3\n"
          ]
        }
      ]
    },
    {
      "cell_type": "markdown",
      "source": [
        "###3. How about this code: what is its result, and why?\n",
        "\n",
        ">>> def func(a, *pargs):\n",
        "\n",
        "print(a, pargs)\n",
        "\n",
        ">>> func(1, 2, 3)\n",
        "\n",
        "###Ans:\n",
        "The result of the code is 1 (2,3). *pargs stands for variable length arguments. this format is used when we are not sure about the no of arguments to be passed to a function. all the values under this argument will be stored in a tuple."
      ],
      "metadata": {
        "id": "8qf1pHw1KzOr"
      }
    },
    {
      "cell_type": "code",
      "source": [
        "def func(a, *pargs):\n",
        "    print(a,pargs)\n",
        "func(1,2,3)"
      ],
      "metadata": {
        "colab": {
          "base_uri": "https://localhost:8080/"
        },
        "id": "CzedzfazK40z",
        "outputId": "fdc61d34-d957-4453-f437-0ae7aeaf45d9"
      },
      "execution_count": 3,
      "outputs": [
        {
          "output_type": "stream",
          "name": "stdout",
          "text": [
            "1 (2, 3)\n"
          ]
        }
      ]
    },
    {
      "cell_type": "markdown",
      "source": [
        "###4. What does this code print, and why?\n",
        "\n",
        ">>> def func(a, **kargs):\n",
        "\n",
        "print(a, kargs)\n",
        "\n",
        ">>> func(a=1, c=3, b=2)\n",
        "\n",
        "###Ans:\n",
        "The result of the above code is 1 {'c': 3, 'b': 2}. **args stands for variable length keyword arguments. this format is used when we want pass key value pairs as input to a function. All these key value pairs will be stored in a dictionary"
      ],
      "metadata": {
        "id": "h6BPamPLK8cr"
      }
    },
    {
      "cell_type": "code",
      "source": [
        "def func(a,**kargs):\n",
        "    print(a,kargs)\n",
        "func(a=1,c=3,b=2)"
      ],
      "metadata": {
        "colab": {
          "base_uri": "https://localhost:8080/"
        },
        "id": "yYUZOKh8LMCE",
        "outputId": "f5e7c9a6-02a9-46d6-d24c-aa640dc448c3"
      },
      "execution_count": 4,
      "outputs": [
        {
          "output_type": "stream",
          "name": "stdout",
          "text": [
            "1 {'c': 3, 'b': 2}\n"
          ]
        }
      ]
    },
    {
      "cell_type": "markdown",
      "source": [
        "###5. What gets printed by this, and explain?\n",
        "\n",
        ">>> def func(a, b, c=8, d=5): print(a, b, c, d)\n",
        "\n",
        ">>> func(1, *(5, 6))\n",
        "\n",
        "###Ans:\n",
        "The output of the above is 1 5 6 5. This reason for this function not throwing an error is because, this function expects 4 arguments. the value for a is provided explicitly whereas for arguments b and c, the function will expand the *(5,6) and consider the value of b as 5 and value of c as 6. since the default value of d is provided in function declaration d value will be 5. However it is recommended to use the feature of positional arguments at the end."
      ],
      "metadata": {
        "id": "7iJe841YLNL_"
      }
    },
    {
      "cell_type": "code",
      "source": [
        "def func(a,b,c=8,d=5):\n",
        "    print(a,b,c,d)\n",
        "func(1,*(5,6))"
      ],
      "metadata": {
        "colab": {
          "base_uri": "https://localhost:8080/"
        },
        "id": "ZGmIZR3xLUPa",
        "outputId": "a5c86f97-f75f-42b2-ee96-0a52e1459ba1"
      },
      "execution_count": 5,
      "outputs": [
        {
          "output_type": "stream",
          "name": "stdout",
          "text": [
            "1 5 6 5\n"
          ]
        }
      ]
    },
    {
      "cell_type": "markdown",
      "source": [
        "###6. what is the result of this, and explain?\n",
        "\n",
        ">>> def func(a, b, c): a = 2; b[0] = 'x'; c['a'] = 'y'\n",
        "\n",
        ">>> l=1; m=[1]; n={'a':0}\n",
        "\n",
        ">>> func(l, m, n)\n",
        "\n",
        ">>> l, m, n\n",
        "\n",
        "###Ans:\n",
        "The output of above code is 1, ['x'], {'a': 'y'}.\n",
        "\n",
        "  1.Eventhough Python gives importance to indentation. its provides a facility to declare an entire function in one single line. where statements in a function body are sepereated by ;\n",
        "\n",
        "  2.When l,m,n are provided as inputs to the function. its modifies the values of l,m,n and sets the value of l=2 ,m=['x'] and n={'a':'y'}"
      ],
      "metadata": {
        "id": "6SrPmU1iLWnk"
      }
    },
    {
      "cell_type": "code",
      "source": [
        "def func(a, b, c): a = 2; b[0] = 'x'; c['a'] = 'y'\n",
        "l=1; m=[1]; n={'a':0}\n",
        "func(l, m, n)\n",
        "l,m,n"
      ],
      "metadata": {
        "colab": {
          "base_uri": "https://localhost:8080/"
        },
        "id": "WGveROX5Lka6",
        "outputId": "8ed03d5a-3984-41a2-d925-a14b9e5e7494"
      },
      "execution_count": 6,
      "outputs": [
        {
          "output_type": "execute_result",
          "data": {
            "text/plain": [
              "(1, ['x'], {'a': 'y'})"
            ]
          },
          "metadata": {},
          "execution_count": 6
        }
      ]
    }
  ]
}